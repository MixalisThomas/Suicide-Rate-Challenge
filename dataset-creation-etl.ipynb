{
 "cells": [
  {
   "cell_type": "code",
   "execution_count": 1,
   "metadata": {},
   "outputs": [],
   "source": [
    "import pandas as pd \n",
    "import os"
   ]
  },
  {
   "cell_type": "code",
   "execution_count": 2,
   "metadata": {},
   "outputs": [],
   "source": [
    "DATA_PATH = 'data/raw/'"
   ]
  },
  {
   "cell_type": "markdown",
   "metadata": {},
   "source": [
    "# Define Country list\n",
    "Iterate over docs to find the optimal set of countries to use\n",
    "We analyze each file to see what what countries are excluded by missing data for each feature"
   ]
  },
  {
   "cell_type": "code",
   "execution_count": 3,
   "metadata": {},
   "outputs": [
    {
     "name": "stdout",
     "output_type": "stream",
     "text": [
      "gini.csv\n",
      "{'Andorra', 'Palau', 'Monaco', 'Nauru', 'Marshall Islands', 'Dominica', 'St. Kitts and Nevis', 'Tuvalu', 'Liechtenstein', 'San Marino', 'Holy See'}\n",
      "\n",
      "urban_population_percent_of_total.csv\n",
      "set()\n",
      "\n",
      "population_aged_15_19_years_female_percent.csv\n",
      "set()\n",
      "\n",
      "population_aged_20_39_years_female_percent.csv\n",
      "set()\n",
      "\n",
      "aged_15plus_employment_rate_percent.csv\n",
      "set()\n",
      "\n",
      "suicide_total_deaths.csv\n",
      "{'Antigua and Barbuda', 'Seychelles', 'Kiribati', 'Micronesia, Fed. Sts.', 'Grenada'}\n",
      "\n",
      "population_aged_0_14_years_male_percent.csv\n",
      "set()\n",
      "\n",
      "population_aged_60plus_years_male_percent.csv\n",
      "set()\n",
      "\n",
      "pump_price_for_gasoline_us_per_liter.csv\n",
      "set()\n",
      "\n",
      "population_aged_0_14_years_female_percent.csv\n",
      "{'Sao Tome and Principe', 'Guinea-Bissau', 'Tonga', 'Solomon Islands', 'St. Vincent and the Grenadines', 'Equatorial Guinea', 'Comoros'}\n",
      "\n",
      "child_mortality_0_5_year_olds_dying_per_1000_born.csv\n",
      "set()\n",
      "\n",
      "population_aged_40_59_years_male_percent.csv\n",
      "set()\n",
      "\n",
      "murder_total_deaths.csv\n",
      "set()\n",
      "\n",
      "cell_phones_total.csv\n",
      "set()\n",
      "\n",
      "freligion_idea.csv\n",
      "set()\n",
      "\n",
      "inflation_annual_percent.csv\n",
      "{'Brunei', 'Suriname', 'St. Lucia', 'Maldives', 'Barbados', 'Fiji', 'Malta', 'Guyana', 'Bhutan', 'Montenegro', 'Iceland', 'Djibouti', 'Samoa', 'Luxembourg', 'Palestine', 'Vanuatu', 'Belize', 'Bahamas', 'Cape Verde'}\n",
      "\n",
      "population_aged_20_39_years_male_percent.csv\n",
      "{'North Korea'}\n",
      "\n",
      "bwelfr_idea.csv\n",
      "set()\n",
      "\n",
      "population_aged_15_19_years_male_percent.csv\n",
      "set()\n",
      "\n",
      "population_total.csv\n",
      "set()\n",
      "\n",
      "hdi_human_development_index.csv\n",
      "set()\n",
      "\n",
      "internet_users.csv\n",
      "{'Somalia'}\n",
      "\n",
      "demox_eiu.csv\n",
      "set()\n",
      "\n",
      "total_gdp_us_inflation_adjusted.csv\n",
      "{'South Sudan', 'Georgia'}\n",
      "\n",
      "at_least_basic_sanitation_overall_access_percent.csv\n",
      "{'Syria'}\n",
      "\n",
      "population_aged_60plus_years_female_percent.csv\n",
      "set()\n",
      "\n",
      "services_percent_of_gdp.csv\n",
      "set()\n",
      "\n",
      "children_per_woman_total_fertility.csv\n",
      "{'Libya', 'Eritrea'}\n",
      "\n",
      "life_expectancy_years.csv\n",
      "set()\n",
      "\n",
      "income_per_person_gdppercapita_ppp_inflation_adjusted.csv\n",
      "set()\n",
      "\n"
     ]
    },
    {
     "data": {
      "text/plain": [
       "146"
      ]
     },
     "execution_count": 3,
     "metadata": {},
     "output_type": "execute_result"
    }
   ],
   "source": [
    "# Filter by label presence\n",
    "# selected_countries_list = ['Brazil', 'France']\n",
    "# countries intersection\n",
    "\n",
    "who_source_renaming = {\n",
    "    \"Côte d'Ivoire\":\"Cote d'Ivoire\",\n",
    "    \"Venezuela (Bolivarian Republic of)\":'Venezuela',\n",
    "    \"United States of America\":'United States',\n",
    "    \"Bolivia (Plurinational State of)\": 'Bolivia',\n",
    "    \"Democratic Republic of the Congo\": 'Congo, Dem. Rep.',\n",
    "    \"Czechia\":'Czech Republic',\n",
    "    \"Viet Nam\": 'Vietnam',\n",
    "    \"Kyrgyzstan\": 'Kyrgyz Republic',\n",
    "    \"Iran (Islamic Republic of)\": 'Iran',\n",
    "    \"Congo\": 'Congo, Rep.',\n",
    "    \"Lao People's Democratic Republic\": 'Lao',\n",
    "    \"Slovakia\":'Slovak Republic',\n",
    "    \"Republic of Moldova\":'Moldova',\n",
    "    \"United Republic of Tanzania\": 'Tanzania',\n",
    "    \"Republic of Korea\":'South Korea',\n",
    "    \"Russian Federation\":'Russia',\n",
    "    \"United Kingdom of Great Britain and Northern Ireland\": 'United Kingdom'\n",
    "}\n",
    "\n",
    "selected_countries_list = []\n",
    "excluded_set = set([])\n",
    "for filename in os.listdir('data/raw'):\n",
    "    if filename.endswith(\".csv\"):\n",
    "        header_list = [0]\n",
    "        if filename.startswith('GHED_') or filename.startswith('countries'):\n",
    "            continue\n",
    "            header_list = [1]\n",
    "            df = pd.read_csv(DATA_PATH + filename, header=header_list).rename(columns={'Country':'country'})\n",
    "            #print(set((df['country'])) - selected_countries_list)\n",
    "            df = df.replace(who_source_renaming)\n",
    "        else:\n",
    "            df = pd.read_csv(DATA_PATH + filename, header=header_list)\n",
    "        # add countries\n",
    "        if not selected_countries_list:\n",
    "            selected_countries_list = set((df['country']))\n",
    "        else:\n",
    "            print(filename)\n",
    "            excluded_this_file = set((df['country'])) - selected_countries_list\n",
    "            # countries to be excluded by this file\n",
    "            new_country_excluded = excluded_this_file - excluded_set\n",
    "            excluded_set = excluded_set.union(excluded_this_file)\n",
    "            print(new_country_excluded, end='\\n\\n')\n",
    "            selected_countries_list = selected_countries_list.intersection(set((df['country'])))\n",
    "            \n",
    "len(selected_countries_list)"
   ]
  },
  {
   "cell_type": "markdown",
   "metadata": {},
   "source": [
    "# Define Year Range"
   ]
  },
  {
   "cell_type": "code",
   "execution_count": 4,
   "metadata": {},
   "outputs": [
    {
     "data": {
      "text/plain": [
       "['2006',\n",
       " '2007',\n",
       " '2008',\n",
       " '2009',\n",
       " '2010',\n",
       " '2011',\n",
       " '2012',\n",
       " '2013',\n",
       " '2014',\n",
       " '2015',\n",
       " '2016']"
      ]
     },
     "execution_count": 4,
     "metadata": {},
     "output_type": "execute_result"
    }
   ],
   "source": [
    "# Starts on 2006\n",
    "# Stop on 2016\n",
    "years_list = list(map(str, list(range(2006, 2017))))\n",
    "years_list"
   ]
  },
  {
   "cell_type": "markdown",
   "metadata": {},
   "source": [
    "# Part 1 - Fixed dataset\n",
    "\n",
    "Holds variable for countries that do not change year-to-year\n",
    "\n",
    "- Latitude\n",
    "- Longitude \n",
    "- Daylight Avg ? "
   ]
  },
  {
   "cell_type": "code",
   "execution_count": 5,
   "metadata": {},
   "outputs": [
    {
     "data": {
      "text/html": [
       "<div>\n",
       "<style scoped>\n",
       "    .dataframe tbody tr th:only-of-type {\n",
       "        vertical-align: middle;\n",
       "    }\n",
       "\n",
       "    .dataframe tbody tr th {\n",
       "        vertical-align: top;\n",
       "    }\n",
       "\n",
       "    .dataframe thead th {\n",
       "        text-align: right;\n",
       "    }\n",
       "</style>\n",
       "<table border=\"1\" class=\"dataframe\">\n",
       "  <thead>\n",
       "    <tr style=\"text-align: right;\">\n",
       "      <th></th>\n",
       "      <th>latitude</th>\n",
       "      <th>longitude</th>\n",
       "      <th>country</th>\n",
       "    </tr>\n",
       "  </thead>\n",
       "  <tbody>\n",
       "    <tr>\n",
       "      <th>0</th>\n",
       "      <td>42.546245</td>\n",
       "      <td>1.601554</td>\n",
       "      <td>Andorra</td>\n",
       "    </tr>\n",
       "    <tr>\n",
       "      <th>1</th>\n",
       "      <td>23.424076</td>\n",
       "      <td>53.847818</td>\n",
       "      <td>United Arab Emirates</td>\n",
       "    </tr>\n",
       "    <tr>\n",
       "      <th>2</th>\n",
       "      <td>33.939110</td>\n",
       "      <td>67.709953</td>\n",
       "      <td>Afghanistan</td>\n",
       "    </tr>\n",
       "    <tr>\n",
       "      <th>3</th>\n",
       "      <td>17.060816</td>\n",
       "      <td>-61.796428</td>\n",
       "      <td>Antigua and Barbuda</td>\n",
       "    </tr>\n",
       "    <tr>\n",
       "      <th>4</th>\n",
       "      <td>18.220554</td>\n",
       "      <td>-63.068615</td>\n",
       "      <td>Anguilla</td>\n",
       "    </tr>\n",
       "    <tr>\n",
       "      <th>...</th>\n",
       "      <td>...</td>\n",
       "      <td>...</td>\n",
       "      <td>...</td>\n",
       "    </tr>\n",
       "    <tr>\n",
       "      <th>240</th>\n",
       "      <td>15.552727</td>\n",
       "      <td>48.516388</td>\n",
       "      <td>Yemen</td>\n",
       "    </tr>\n",
       "    <tr>\n",
       "      <th>241</th>\n",
       "      <td>-12.827500</td>\n",
       "      <td>45.166244</td>\n",
       "      <td>Mayotte</td>\n",
       "    </tr>\n",
       "    <tr>\n",
       "      <th>242</th>\n",
       "      <td>-30.559482</td>\n",
       "      <td>22.937506</td>\n",
       "      <td>South Africa</td>\n",
       "    </tr>\n",
       "    <tr>\n",
       "      <th>243</th>\n",
       "      <td>-13.133897</td>\n",
       "      <td>27.849332</td>\n",
       "      <td>Zambia</td>\n",
       "    </tr>\n",
       "    <tr>\n",
       "      <th>244</th>\n",
       "      <td>-19.015438</td>\n",
       "      <td>29.154857</td>\n",
       "      <td>Zimbabwe</td>\n",
       "    </tr>\n",
       "  </tbody>\n",
       "</table>\n",
       "<p>245 rows × 3 columns</p>\n",
       "</div>"
      ],
      "text/plain": [
       "      latitude  longitude               country\n",
       "0    42.546245   1.601554               Andorra\n",
       "1    23.424076  53.847818  United Arab Emirates\n",
       "2    33.939110  67.709953           Afghanistan\n",
       "3    17.060816 -61.796428   Antigua and Barbuda\n",
       "4    18.220554 -63.068615              Anguilla\n",
       "..         ...        ...                   ...\n",
       "240  15.552727  48.516388                 Yemen\n",
       "241 -12.827500  45.166244               Mayotte\n",
       "242 -30.559482  22.937506          South Africa\n",
       "243 -13.133897  27.849332                Zambia\n",
       "244 -19.015438  29.154857              Zimbabwe\n",
       "\n",
       "[245 rows x 3 columns]"
      ]
     },
     "execution_count": 5,
     "metadata": {},
     "output_type": "execute_result"
    }
   ],
   "source": [
    "geo_df = pd.read_csv(DATA_PATH + 'countries_lat-long.csv')\n",
    "geo_df.columns\n",
    "geo_df = geo_df.drop(columns='country').rename(columns={'name':'country'})\n",
    "# to make it compatible with our feature country names \n",
    "geo_renaming = {\n",
    "    'Congo [DRC]': 'Congo, Dem. Rep.',\n",
    "    'Congo [Republic]': 'Congo, Rep.',\n",
    "    \"Côte d'Ivoire\": \"Cote d'Ivoire\",\n",
    "    'Swaziland': 'Eswatini',\n",
    "    'Kyrgyzstan':'Kyrgyz Republic',\n",
    "    'Laos': 'Lao',\n",
    "    'Myanmar [Burma]': 'Myanmar',\n",
    "    'Macedonia [FYROM]': 'North Macedonia',\n",
    "    'Slovakia':'Slovak Republic'\n",
    "}\n",
    "geo_df = geo_df.replace(geo_renaming)\n",
    "geo_df"
   ]
  },
  {
   "cell_type": "code",
   "execution_count": 6,
   "metadata": {},
   "outputs": [],
   "source": [
    "# Save geo dataset\n",
    "geo_df.to_csv('data/processed/geo_data_per_country.csv', index=False)"
   ]
  },
  {
   "cell_type": "markdown",
   "metadata": {},
   "source": [
    "# Part 2 - Yearly Dataset\n"
   ]
  },
  {
   "cell_type": "code",
   "execution_count": 7,
   "metadata": {},
   "outputs": [],
   "source": [
    "# get gapminder format \n",
    "gapminder_format_files_list = [\n",
    "    'aged_15plus_employment_rate_percent',\n",
    "    'at_least_basic_sanitation_overall_access_percent',\n",
    "    'bwelfr_idea',\n",
    "    'cell_phones_total',\n",
    "    'child_mortality_0_5_year_olds_dying_per_1000_born',\n",
    "    'children_per_woman_total_fertility',\n",
    "    'demox_eiu',\n",
    "    'freligion_idea',\n",
    "    # 'GHED_CHEGDP_SHA2011', not in the gapminder format\n",
    "    'gini',\n",
    "    'hdi_human_development_index',\n",
    "    'income_per_person_gdppercapita_ppp_inflation_adjusted',\n",
    "    'inflation_annual_percent',\n",
    "    'internet_users',\n",
    "    'life_expectancy_years',\n",
    "    'murder_total_deaths',\n",
    "    'population_aged_0_14_years_female_percent',\n",
    "    'population_aged_0_14_years_male_percent',\n",
    "    'population_aged_15_19_years_female_percent',\n",
    "    'population_aged_15_19_years_male_percent',\n",
    "    'population_aged_20_39_years_female_percent',\n",
    "    'population_aged_20_39_years_male_percent',\n",
    "    'population_aged_40_59_years_female_percent',\n",
    "    'population_aged_40_59_years_male_percent',\n",
    "    'population_aged_60plus_years_female_percent',\n",
    "    'population_aged_60plus_years_male_percent',\n",
    "    'population_total',\n",
    "    'services_percent_of_gdp',\n",
    "    'suicide_total_deaths',\n",
    "    'total_gdp_us_inflation_adjusted',\n",
    "    'urban_population_percent_of_total'\n",
    "]\n",
    "\n",
    "# Create X_df \n",
    "countries_df = pd.DataFrame(selected_countries_list)\n",
    "years_df = pd.DataFrame(years_list)\n",
    "\n",
    "countries_df['key'] = 0\n",
    "years_df['key'] = 0\n",
    "X_df = countries_df.merge(years_df, on='key', how='outer').drop(columns='key').rename(columns={'0_x':'country', '0_y':'year'})\n",
    "\n",
    "\n",
    "# Merge data\n",
    "for filename in gapminder_format_files_list:\n",
    "    df = pd.read_csv(DATA_PATH + filename + '.csv')\n",
    "    #    df = df.rename(columns={'Country': 'country'})\n",
    "    #    print(df.columns)\n",
    "    if 'country' not in df.columns:\n",
    "        print('missing country col: ' + filename)\n",
    "    if '2016' not in df.columns:\n",
    "        print('missing country col: ' + filename)    \n",
    "    \n",
    "    # Filter previous years\n",
    "    df = df[years_list + ['country']]\n",
    "    # set country as indexes\n",
    "    # df.set_index('country')\n",
    "    # Filter countries\n",
    "    df = df[df['country'].isin(selected_countries_list)]\n",
    "    \n",
    "    # pivot and add as column\n",
    "    stacked_df = df.set_index('country').stack().rename(filename).reset_index().rename(columns={'level_1':'year'})\n",
    "    # merge with final dataset\n",
    "    X_df = X_df.merge(stacked_df, on=['country', 'year'], how='inner')\n",
    "    \n",
    "\n",
    "# process GHED_CHEGDP_SHA2011 data\n",
    "header_list = [1]\n",
    "df = pd.read_csv(DATA_PATH + 'GHED_CHEGDP_SHA2011.csv', header=header_list).rename(columns={'Country':'country'})\n",
    "df = df.replace(who_source_renaming)\n",
    "# Remove spaces\n",
    "df.columns = df.columns.str.strip()\n",
    "df = df[years_list + ['country']]\n",
    "df = df[df['country'].isin(selected_countries_list)]    \n",
    "# pivot and add as column\n",
    "stacked_df = df.set_index('country').stack().rename('GHED_CHEGDP_SHA2011').reset_index().rename(columns={'level_1':'year'})\n",
    "# merge with final dataset\n",
    "X_df = X_df.merge(stacked_df, on=['country', 'year'], how='inner')"
   ]
  },
  {
   "cell_type": "code",
   "execution_count": 8,
   "metadata": {},
   "outputs": [
    {
     "data": {
      "text/plain": [
       "(1548, 33)"
      ]
     },
     "execution_count": 8,
     "metadata": {},
     "output_type": "execute_result"
    }
   ],
   "source": [
    "# Check shape\n",
    "X_df.shape"
   ]
  },
  {
   "cell_type": "code",
   "execution_count": 9,
   "metadata": {},
   "outputs": [
    {
     "data": {
      "text/plain": [
       "year\n",
       "2006    132\n",
       "2007    138\n",
       "2008    138\n",
       "2009    139\n",
       "2010    143\n",
       "2011    143\n",
       "2012    144\n",
       "2013    144\n",
       "2014    144\n",
       "2015    143\n",
       "2016    140\n",
       "Name: country, dtype: int64"
      ]
     },
     "execution_count": 9,
     "metadata": {},
     "output_type": "execute_result"
    }
   ],
   "source": [
    "# Complete country data per year\n",
    "X_df.groupby('year')['country'].count()"
   ]
  },
  {
   "cell_type": "code",
   "execution_count": 10,
   "metadata": {},
   "outputs": [
    {
     "data": {
      "text/plain": [
       "country                                                  140\n",
       "year                                                     140\n",
       "aged_15plus_employment_rate_percent                      140\n",
       "at_least_basic_sanitation_overall_access_percent         140\n",
       "bwelfr_idea                                              140\n",
       "cell_phones_total                                        140\n",
       "child_mortality_0_5_year_olds_dying_per_1000_born        140\n",
       "children_per_woman_total_fertility                       140\n",
       "demox_eiu                                                140\n",
       "freligion_idea                                           140\n",
       "gini                                                     140\n",
       "hdi_human_development_index                              140\n",
       "income_per_person_gdppercapita_ppp_inflation_adjusted    140\n",
       "inflation_annual_percent                                 140\n",
       "internet_users                                           140\n",
       "life_expectancy_years                                    140\n",
       "murder_total_deaths                                      140\n",
       "population_aged_0_14_years_female_percent                140\n",
       "population_aged_0_14_years_male_percent                  140\n",
       "population_aged_15_19_years_female_percent               140\n",
       "population_aged_15_19_years_male_percent                 140\n",
       "population_aged_20_39_years_female_percent               140\n",
       "population_aged_20_39_years_male_percent                 140\n",
       "population_aged_40_59_years_female_percent               140\n",
       "population_aged_40_59_years_male_percent                 140\n",
       "population_aged_60plus_years_female_percent              140\n",
       "population_aged_60plus_years_male_percent                140\n",
       "population_total                                         140\n",
       "services_percent_of_gdp                                  140\n",
       "suicide_total_deaths                                     140\n",
       "total_gdp_us_inflation_adjusted                          140\n",
       "urban_population_percent_of_total                        140\n",
       "GHED_CHEGDP_SHA2011                                      140\n",
       "dtype: int64"
      ]
     },
     "execution_count": 10,
     "metadata": {},
     "output_type": "execute_result"
    }
   ],
   "source": [
    "# generate label: dataset to be predicted in the ramp server\n",
    "X_df[X_df.year == '2016'].count()"
   ]
  },
  {
   "cell_type": "markdown",
   "metadata": {},
   "source": [
    "# Check for missing data"
   ]
  },
  {
   "cell_type": "code",
   "execution_count": 11,
   "metadata": {},
   "outputs": [
    {
     "data": {
      "text/plain": [
       "country                                                  0\n",
       "year                                                     0\n",
       "aged_15plus_employment_rate_percent                      0\n",
       "at_least_basic_sanitation_overall_access_percent         0\n",
       "bwelfr_idea                                              0\n",
       "cell_phones_total                                        0\n",
       "child_mortality_0_5_year_olds_dying_per_1000_born        0\n",
       "children_per_woman_total_fertility                       0\n",
       "demox_eiu                                                0\n",
       "freligion_idea                                           0\n",
       "gini                                                     0\n",
       "hdi_human_development_index                              0\n",
       "income_per_person_gdppercapita_ppp_inflation_adjusted    0\n",
       "inflation_annual_percent                                 0\n",
       "internet_users                                           0\n",
       "life_expectancy_years                                    0\n",
       "murder_total_deaths                                      0\n",
       "population_aged_0_14_years_female_percent                0\n",
       "population_aged_0_14_years_male_percent                  0\n",
       "population_aged_15_19_years_female_percent               0\n",
       "population_aged_15_19_years_male_percent                 0\n",
       "population_aged_20_39_years_female_percent               0\n",
       "population_aged_20_39_years_male_percent                 0\n",
       "population_aged_40_59_years_female_percent               0\n",
       "population_aged_40_59_years_male_percent                 0\n",
       "population_aged_60plus_years_female_percent              0\n",
       "population_aged_60plus_years_male_percent                0\n",
       "population_total                                         0\n",
       "services_percent_of_gdp                                  0\n",
       "suicide_total_deaths                                     0\n",
       "total_gdp_us_inflation_adjusted                          0\n",
       "urban_population_percent_of_total                        0\n",
       "GHED_CHEGDP_SHA2011                                      0\n",
       "dtype: int64"
      ]
     },
     "execution_count": 11,
     "metadata": {},
     "output_type": "execute_result"
    }
   ],
   "source": [
    "# check missing data\n",
    "X_df.isna().sum()"
   ]
  },
  {
   "cell_type": "code",
   "execution_count": 12,
   "metadata": {},
   "outputs": [],
   "source": [
    "# check there is no missing data\n",
    "assert len(set(X_df.country.unique()) - set(geo_df.country.unique())) == 0"
   ]
  },
  {
   "cell_type": "markdown",
   "metadata": {},
   "source": [
    "# Generate Label & Dataset files"
   ]
  },
  {
   "cell_type": "code",
   "execution_count": 13,
   "metadata": {},
   "outputs": [
    {
     "data": {
      "text/plain": [
       "(1408, 33)"
      ]
     },
     "execution_count": 13,
     "metadata": {},
     "output_type": "execute_result"
    }
   ],
   "source": [
    "challenge_features_df = X_df[X_df.year != '2016']\n",
    "challenge_features_df.shape"
   ]
  },
  {
   "cell_type": "code",
   "execution_count": 14,
   "metadata": {},
   "outputs": [],
   "source": [
    "challenge_features_df.to_csv('data/processed/challenge_suicide_total_deaths_dataset.csv', index=False)"
   ]
  },
  {
   "cell_type": "code",
   "execution_count": 15,
   "metadata": {},
   "outputs": [
    {
     "data": {
      "text/plain": [
       "(140, 33)"
      ]
     },
     "execution_count": 15,
     "metadata": {},
     "output_type": "execute_result"
    }
   ],
   "source": [
    "# Hidden data to evaluate leaderboard\n",
    "test_df = X_df[X_df.year == '2016']\n",
    "test_df.shape"
   ]
  },
  {
   "cell_type": "code",
   "execution_count": 16,
   "metadata": {},
   "outputs": [],
   "source": [
    "test_df.to_csv('data/processed/test_2016_dataset.csv', index=False)"
   ]
  },
  {
   "cell_type": "code",
   "execution_count": 17,
   "metadata": {},
   "outputs": [
    {
     "data": {
      "text/plain": [
       "11       1080.0\n",
       "22      11200.0\n",
       "33        445.0\n",
       "40       2200.0\n",
       "51        591.0\n",
       "         ...   \n",
       "1503     2110.0\n",
       "1514     6830.0\n",
       "1525    12400.0\n",
       "1536     2920.0\n",
       "1547     2820.0\n",
       "Name: suicide_total_deaths, Length: 140, dtype: float64"
      ]
     },
     "execution_count": 17,
     "metadata": {},
     "output_type": "execute_result"
    }
   ],
   "source": [
    "#label\n",
    "test_df['suicide_total_deaths']"
   ]
  },
  {
   "cell_type": "code",
   "execution_count": 19,
   "metadata": {},
   "outputs": [
    {
     "data": {
      "text/plain": [
       "(1408, 33)"
      ]
     },
     "execution_count": 19,
     "metadata": {},
     "output_type": "execute_result"
    }
   ],
   "source": [
    "challenge_features_df.shape"
   ]
  },
  {
   "cell_type": "code",
   "execution_count": 18,
   "metadata": {},
   "outputs": [
    {
     "name": "stdout",
     "output_type": "stream",
     "text": [
      "country\n",
      "year\n",
      "aged_15plus_employment_rate_percent\n",
      "at_least_basic_sanitation_overall_access_percent\n",
      "bwelfr_idea\n",
      "cell_phones_total\n",
      "child_mortality_0_5_year_olds_dying_per_1000_born\n",
      "children_per_woman_total_fertility\n",
      "demox_eiu\n",
      "freligion_idea\n",
      "gini\n",
      "hdi_human_development_index\n",
      "income_per_person_gdppercapita_ppp_inflation_adjusted\n",
      "inflation_annual_percent\n",
      "internet_users\n",
      "life_expectancy_years\n",
      "murder_total_deaths\n",
      "population_aged_0_14_years_female_percent\n",
      "population_aged_0_14_years_male_percent\n",
      "population_aged_15_19_years_female_percent\n",
      "population_aged_15_19_years_male_percent\n",
      "population_aged_20_39_years_female_percent\n",
      "population_aged_20_39_years_male_percent\n",
      "population_aged_40_59_years_female_percent\n",
      "population_aged_40_59_years_male_percent\n",
      "population_aged_60plus_years_female_percent\n",
      "population_aged_60plus_years_male_percent\n",
      "population_total\n",
      "services_percent_of_gdp\n",
      "suicide_total_deaths\n",
      "total_gdp_us_inflation_adjusted\n",
      "urban_population_percent_of_total\n",
      "GHED_CHEGDP_SHA2011\n"
     ]
    }
   ],
   "source": [
    "for col in challenge_features_df.columns:\n",
    "    print(col)"
   ]
  },
  {
   "cell_type": "code",
   "execution_count": null,
   "metadata": {},
   "outputs": [],
   "source": []
  },
  {
   "cell_type": "code",
   "execution_count": null,
   "metadata": {},
   "outputs": [],
   "source": []
  }
 ],
 "metadata": {
  "kernelspec": {
   "display_name": "Python 3",
   "language": "python",
   "name": "python3"
  },
  "language_info": {
   "codemirror_mode": {
    "name": "ipython",
    "version": 3
   },
   "file_extension": ".py",
   "mimetype": "text/x-python",
   "name": "python",
   "nbconvert_exporter": "python",
   "pygments_lexer": "ipython3",
   "version": "3.7.9"
  }
 },
 "nbformat": 4,
 "nbformat_minor": 4
}
